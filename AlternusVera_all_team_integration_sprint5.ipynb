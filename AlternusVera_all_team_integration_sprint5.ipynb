{
  "nbformat": 4,
  "nbformat_minor": 0,
  "metadata": {
    "accelerator": "GPU",
    "colab": {
      "name": "AlternusVera_all_team_integration_sprint5.ipynb",
      "provenance": [],
      "collapsed_sections": [],
      "toc_visible": true
    },
    "kernelspec": {
      "display_name": "Python 3",
      "language": "python",
      "name": "python3"
    },
    "language_info": {
      "codemirror_mode": {
        "name": "ipython",
        "version": 3
      },
      "file_extension": ".py",
      "mimetype": "text/x-python",
      "name": "python",
      "nbconvert_exporter": "python",
      "pygments_lexer": "ipython3",
      "version": "3.8.5"
    }
  },
  "cells": [
    {
      "cell_type": "markdown",
      "metadata": {
        "id": "1ozZMQ-jqp0j"
      },
      "source": [
        "# CMPE 257 - MLSprings 2021 Cohort\n",
        "## Objective: Detect fake news in political datasets using factors\n",
        "\n",
        "## Factors by Team\n",
        "## Team Equality - Abhishek Bais, Haley Feng, Jimmy Liang, Shannon Phu\n",
        "### Abhishek - Misleading Intentions\n",
        "#### Microfactors:  \n",
        "Sentiment Analysis  \n",
        "Sensationalism  \n",
        "Click Bait \n",
        "\n",
        "Datasets:\n",
        "1. [Politifact](drive.google.com/file/d/1LUTnGJ1c8WDwcEmed85GhfoEUm2sJFzN/view)  \n",
        "2. [Amalgamated dataset from varied newsAPI feed](https://docs.google.com/spreadsheets/d/1jJflezhjlTPRoVHvj7UvQwllssq66zhZNPz7GI_Zwhc/edit#gid=22382224)  \n",
        "3. [Sensational words corpus](https://drive.google.com/file/d/1JIes9QhZw7EUt59EBDUgrdFMokoT1W8u/view)  \n",
        "\n",
        "### Shannon - Stance Detection\n",
        "#### Microfactors:  \n",
        "Sentiment Analysis  \n",
        "Subjectivity Score  \n",
        "BERT Embeddings  \n",
        "\n",
        "Datasets:\n",
        "1. [Fake News Challenge](https://www.kaggle.com/c/fakenewskdd2020)  \n",
        "2. [Politifact](drive.google.com/file/d/1LUTnGJ1c8WDwcEmed85GhfoEUm2sJFzN/view)  \n",
        "3. [Sentiment words corpus](https://drive.google.com/file/d/1JIes9QhZw7EUt59EBDUgrdFMokoT1W8u/view)  \n",
        "\n",
        "### Haley - Political Bias\n",
        "#### Microfactors: \n",
        "Sentiment Analysis  \n",
        "Party Affiliation  \n",
        "Vocab Selection Bias  \n",
        "1. Politifact\n",
        "2. [GoogleNews API](https://docs.google.com/spreadsheets/d/1Uu-266Q0ab88fnnjtrZ8MMMV8KGNzGoiGKXbBssza2s/edit?usp=sharing)\n",
        "3. [Ideological Book Corpus](https://people.cs.umass.edu/~miyyer/ibc/index.html) / [Kaggle Tweets](https://docs.google.com/spreadsheets/d/14KRtIdMqbp1Tnd7AraR-ROtPDTSQgc--hMmm0L7baDc/edit?usp=sharing)\n",
        "\n",
        "### Jimmy - Naive Realism\n",
        "#### Microfactors:  \n",
        "Topic Centrality  \n",
        "Polarization  \n",
        "Source Centrality  \n",
        "\n",
        "## Team DataCorps - Yuxing Wang, Arun Talkad, Mayuri Lalwani\n",
        "\n",
        "### Yuxing - Psychology Utilities\n",
        "#### Microfactors:\n",
        "Group confirmation<br />\n",
        "Opinion leader<br />\n",
        "Sentiment<br />\n",
        "Datasets:\n",
        "1. Politifact\n",
        "2. Twitter API\n",
        "3. News API\n",
        "\n",
        "### Mayuri - Intent\n",
        "#### Microfactors:\n",
        "Utterance<br />\n",
        "Speech<br />\n",
        "Sentiment<br />\n",
        "Datasets:\n",
        "1. politifact\n",
        "2. twitter\n",
        "3. newsapi\n",
        "\n",
        "### Arun - Source Reputation, Source Reliability\n",
        "#### Microfactors:\n",
        "Provenance Analysis <br />\n",
        "News Subjectivity   <br />             \n",
        "News Credibility  <br />              \n",
        "News Veracity Detection <br />\n",
        "Datasets:\n",
        "1. Politifact\n",
        "2. Twitter API\n",
        "3. News API <br />\n",
        "\n",
        "## Team Sparrow \n",
        "### Princy\n",
        "#### Microfactors\n",
        "Text similarity<br/>\n",
        "Sentiment Polarity <br/>\n",
        "Datasets:\n",
        "1. [Stance Dataset](http://www.fakenewschallenge.org)\n",
        "2. [ISOT Fake News Dataset\n",
        "](https://www.uvic.ca/engineering/ece/isot/datasets/fake-news/index.php)\n",
        "3. [Kaggle](https://www.kaggle.com/c/fake-news/)\n",
        "\n",
        "## Team Amalgam\n",
        "### Surabhi: Credibility\n",
        "#### Microfactors\n",
        "Author Experise<br />\n",
        "Content Credibility<br />\n",
        "Text Readability<br />\n",
        "Datasets Used: \n",
        "1. Scraped Data from Politifact website \n",
        "2. Scraped news article from web\n",
        "\n",
        "### Arpitha:  Style based approaches\n",
        "#### Microfactors\n",
        "Hyperpartisan<br />\n",
        "Yellow Journalism<br />\n",
        "Deception/Lying in text<br />\n",
        "Datasets Used: \n",
        "1. Kaggle fake news dataset: https://www.kaggle.com/surekharamireddy/fake-news-detection\n",
        "2. SemEval Hyperpartisan News Detection task dataset: https://pan.webis.de/semeval19/semeval19-web/\n",
        "\n",
        "### Gayathri: Authenticity\n",
        "#### Microfactors\n",
        "Flesch Reading Ease Score<br />\n",
        "Polarity score<br />\n",
        "Subjectivity Score<br />\n",
        "Datasets Used: \n",
        "1. Scraped Data from Politifact website\n",
        "\n",
        "\n",
        "\n",
        "## Team Underdog \n",
        "### Jocelyn \n",
        "### Source Reputation\n",
        "#### Microfactors\n",
        "Source Ratings Score \n",
        "Reputation Score \n",
        "Sentence Similarity\n",
        "### Datasets used:\n",
        "1. Scraped Data from Politifact and FoxNews Website\n",
        "\n",
        "________\n",
        "## Team Musketeers\n",
        "### Raghava Devaraje Urs\n",
        "#### Microfactors\n",
        "**Political Affiliation**\n",
        "1. Sentiment analysis\n",
        "2. Party affiliations \n",
        "3. Click Bait\n",
        "\n",
        "### Kumuda Benakanahalli \n",
        "#### Microfactors\n",
        "**Spam**\n",
        "1. Source Reputation\n",
        "2. Spam word percentage\n",
        "3. Comprehensive index\n",
        "\n",
        "### Shiv Kumar Ganesh\n",
        "#### Microfactors\n",
        "**Writing Style**\n",
        "1. Vocab Analysis\n",
        "2. Lexical Analysis\n",
        "3. Readibility Analysis\n",
        "_____\n",
        "## Team ml-coders\n",
        "### Teepika R M\n",
        "#### Microfactors\n",
        "\n",
        "1. Sentiment Intensity\n",
        "2. Political Bias\n",
        "3. Readability Score\n",
        "\n",
        "### Jagruti Mohanty\n",
        "#### Microfactors\n",
        "1. Clickbait\n",
        "2. Toxicity\n",
        "3. Subjectivity\n",
        "4. Sentiment Polarity\n",
        "\n",
        "### Shashank Raghuvanshi\n",
        "#### Microfactors\n",
        "\n",
        "1. Sensatonalism\n",
        "2. Linguistic Bias\n",
        "3. Vagnuess\n",
        "\n",
        "### Duncan Inganji\n",
        "#### Microfactors\n",
        "\n",
        "1. Sentiment Analysis\n",
        "2. Readibility Analysis\n",
        "\n",
        "\n",
        "_____"
      ]
    },
    {
      "cell_type": "code",
      "metadata": {
        "id": "7C4abpQqjAj5"
      },
      "source": [
        "!pip install sentence-transformers\n",
        "!pip install transformers"
      ],
      "execution_count": null,
      "outputs": []
    },
    {
      "cell_type": "code",
      "metadata": {
        "id": "Wt6Ge7dNq29P"
      },
      "source": [
        "# Import standard libraries\n",
        "import numpy as np\n",
        "import pandas as pd\n",
        "import matplotlib.pyplot as plt\n",
        "import seaborn as sns\n",
        "from io import BytesIO\n",
        "import requests\n",
        "import pickle\n",
        "import nltk\n",
        "from transformers import pipeline\n",
        "nltk.download('punkt')\n",
        "from nltk.sentiment.vader import SentimentIntensityAnalyzer\n",
        "nltk.download('vader_lexicon')\n",
        "from nltk.corpus import stopwords\n",
        "nltk.download('stopwords')"
      ],
      "execution_count": null,
      "outputs": []
    },
    {
      "cell_type": "code",
      "metadata": {
        "id": "q6JXxaedfOj7"
      },
      "source": [
        "!pip install -U -q pyDrive"
      ],
      "execution_count": null,
      "outputs": []
    },
    {
      "cell_type": "code",
      "metadata": {
        "id": "FWqJQotGeV6b"
      },
      "source": [
        "# Import packages for google drive, auth\n",
        "from pydrive.auth import GoogleAuth\n",
        "from pydrive.drive import GoogleDrive\n",
        "from google.colab import auth\n",
        "from oauth2client.client import GoogleCredentials\n",
        "\n",
        "auth.authenticate_user()\n",
        "gauth = GoogleAuth()\n",
        "gauth.credentials = GoogleCredentials.get_application_default()\n",
        "gdrive = GoogleDrive(gauth)"
      ],
      "execution_count": null,
      "outputs": []
    },
    {
      "cell_type": "code",
      "metadata": {
        "id": "tvzcys0ueBkd"
      },
      "source": [
        "from sklearn.preprocessing import PolynomialFeatures\n",
        "from textblob import TextBlob\n",
        "from sentence_transformers import SentenceTransformer"
      ],
      "execution_count": null,
      "outputs": []
    },
    {
      "cell_type": "markdown",
      "metadata": {
        "id": "noSA0zB6nzwJ"
      },
      "source": [
        "# 1.0. Read in streaming news headlines\n",
        "\n",
        "a. Streaming news headlines are from https://newsapi.org/  \n",
        "c. Streaming news headlines are from CNN, Brietbart News and Fox News 2021/4/25 - 2021/4/26"
      ]
    },
    {
      "cell_type": "code",
      "metadata": {
        "id": "UEdR7Valn_H2"
      },
      "source": [
        "r = requests.get('https://docs.google.com/spreadsheets/d/e/2PACX-1vQoXVHhfQlxAlQ8b3eHot7dDhXmCYM9iYC7i0mZMMpzwejhvCjMeEEHPTRhI7KCqOkRbmHBfsxKp0gw/pub?gid=1486725861&single=true&output=tsv')\n",
        "data = r.content\n",
        "df_test_headlines = pd.read_csv(BytesIO(data), sep='\\t')\n",
        "df_test_headlines"
      ],
      "execution_count": null,
      "outputs": []
    },
    {
      "cell_type": "markdown",
      "metadata": {
        "id": "I47CwebudtV2"
      },
      "source": [
        "# 2.0. Predict news headline is true/ false by ensembling factors"
      ]
    },
    {
      "cell_type": "markdown",
      "metadata": {
        "id": "timAm5UXdmqP"
      },
      "source": [
        "## 2.a. Define a false-o-meter\n",
        "1. Associate weights with each micro-factor proportional to model accuracy\n",
        "2. Probablity news is false is obtained by ensembling micro-factors as follows\n",
        "Define: A [false-o-meter] as s polynomial function f(p) = p0w0 + p1w1 + p2*w2\n",
        "where\n",
        "i. p is predicited probability of a micro-factor\n",
        "ii. w is normalized weight of micro-factors, proportional to accuracy of its prediction\n",
        "\n",
        "3. Labels news as follows based on false-o-meter f(p) reading\n",
        "i. Pants on Fire - if false-o-meter > 0.9\n",
        "ii. Somewhat False - if 0.7 < false-o-meter < 0.9\n",
        "iii. Mostly False - if 0.5 < false-o-meter < 0.7\n",
        "iv. Half True - if 0.3 < false-o-meter < 0.5\n",
        "v. Mostly True - if 0.1 < false-o-meter < 0.3\n",
        "vi. True - if 0.1 < false-o-meter"
      ]
    },
    {
      "cell_type": "markdown",
      "metadata": {
        "id": "0Tj9YbF3u6u5"
      },
      "source": [
        "## 2.b. Define Stance Predictor"
      ]
    },
    {
      "cell_type": "code",
      "metadata": {
        "id": "AKq470C2grOd"
      },
      "source": [
        "def apply_stance_detection_featurization(df_, sentiment_analyzer, headlineCol='Headline', bodyCol='ArticleBody'):\n",
        "  orig_cols = df_.copy().columns\n",
        "  df_['body_sentiment_score'] = df_[bodyCol].apply(lambda text: sentiment_analyzer.polarity_scores(text)['compound'])\n",
        "  df_['body_subjectivity_score'] = df_[bodyCol].apply(lambda text: TextBlob(text).sentiment[1])\n",
        "  df_['title_sentiment_score'] = df_[headlineCol].apply(lambda text: sentiment_analyzer.polarity_scores(text)['compound'])\n",
        "  df_['title_subjectivity_score'] = df_[headlineCol].apply(lambda text: TextBlob(text).sentiment[1])\n",
        "  df_ = df_.reset_index()\n",
        "\n",
        "  feature_names = ['body_sentiment_score', 'body_subjectivity_score', 'title_sentiment_score', 'title_subjectivity_score']\n",
        "  poly = PolynomialFeatures(interaction_only=True)\n",
        "  interaction_features = pd.DataFrame(poly.fit_transform(df_[feature_names].to_numpy()))\n",
        "  interaction_feature_names = poly.get_feature_names(input_features=feature_names)\n",
        "  interaction_features.columns = interaction_feature_names\n",
        "  interaction_features = interaction_features.drop(['1'], axis=1)\n",
        "  interaction_feature_names.remove('1')\n",
        "\n",
        "  headline_sentence_embeddings = pd.DataFrame(np.stack(df_[headlineCol].apply(transformer_model.encode).to_numpy()), columns=['heademb_{}'.format(i) for i in range(768)])\n",
        "  article_sentence_embeddings = pd.DataFrame(np.stack(df_[bodyCol].apply(transformer_model.encode).to_numpy()), columns=['artemb_{}'.format(i) for i in range(768)])\n",
        "\n",
        "  features = pd.concat([df_[orig_cols], interaction_features, headline_sentence_embeddings, article_sentence_embeddings], axis=1)\n",
        "  return features"
      ],
      "execution_count": null,
      "outputs": []
    },
    {
      "cell_type": "code",
      "metadata": {
        "id": "VQuyQVdbmd0F"
      },
      "source": [
        "file_id = '1DV5hmLvLJWYBviF6ps0nXV5FCu1URXyL'\n",
        "model_filename = 'stance_detection.pkl'\n",
        "downloaded = gdrive.CreateFile({'id': file_id})\n",
        "downloaded.GetContentFile(model_filename)\n",
        "pickle_filepath = '/content/{}'.format(model_filename)\n",
        "stance_detection_model = pickle.load(open(pickle_filepath, 'rb'))\n",
        "\n",
        "sentiment_analyzer = SentimentIntensityAnalyzer()\n",
        "transformer_model = SentenceTransformer('distilbert-base-nli-stsb-mean-tokens')\n",
        "\n",
        "def getStancePrediction(X_headline, X_body):\n",
        "  prob = [0, 0, 0]\n",
        "  if X_headline.size == 1:\n",
        "    # prepare data for stance prediction\n",
        "    df = pd.DataFrame([(X_headline.iloc[0], X_body.iloc[0])], columns=['Headline', 'ArticleBody']) \n",
        "    stance_detection_features = apply_stance_detection_featurization(df, sentiment_analyzer, headlineCol='Headline', bodyCol='ArticleBody')\n",
        "    stance_detection_X = stance_detection_features.drop(['Headline', 'ArticleBody'], axis=1).to_numpy()\n",
        "    stance_detection_prediction_score = stance_detection_model.predict_proba(stance_detection_X)[0]\n",
        "    # make a prediction\n",
        "    prob = stance_detection_prediction_score\n",
        "\n",
        "  return prob"
      ],
      "execution_count": null,
      "outputs": []
    },
    {
      "cell_type": "markdown",
      "metadata": {
        "id": "eoz_GwWEuyOK"
      },
      "source": [
        "## 2.c. Define Sentiment Predictor"
      ]
    },
    {
      "cell_type": "code",
      "metadata": {
        "id": "X4qVLO1EdqH2"
      },
      "source": [
        "def getSentimentPrediction(X_news):\n",
        "  prob = 0\n",
        "  if X_news.size == 1:\n",
        "    file_id = '1eZ0TycVjHAyaFh8eKDmyLiQ_DN8rOcbI'\n",
        "    model_filename = 'Best_Sentiment_Analysis_Model_Misleading_Intentions.pkl'\n",
        "    downloaded = gdrive.CreateFile({'id': file_id})\n",
        "    downloaded.GetContentFile(model_filename)\n",
        "    pickle_filepath = '/content/{}'.format(model_filename)\n",
        "    best_sentiment_model = pickle.load(open(pickle_filepath, 'rb'))\n",
        "    prob = best_sentiment_model.predict_proba(X_news)[:,1]\n",
        "  return float(prob)"
      ],
      "execution_count": null,
      "outputs": []
    },
    {
      "cell_type": "markdown",
      "metadata": {
        "id": "0x8PlEguu1s4"
      },
      "source": [
        "## 2.d. Define Sensationalism Predictor"
      ]
    },
    {
      "cell_type": "code",
      "metadata": {
        "id": "H_MZQd_90cvu"
      },
      "source": [
        "def getSensationalismPrediction(X_news):\n",
        "  prob = 0\n",
        "  if X_news.size == 1:\n",
        "    file_id = '1XEYOqUEkI52tW7ZWtIGRq0Qe5dOd2I_S'\n",
        "    model_filename = 'Best_Sensationalism_Analysis_Model_Misleading_Intentions.pkl'\n",
        "    downloaded = gdrive.CreateFile({'id': file_id})\n",
        "    downloaded.GetContentFile(model_filename)\n",
        "    pickle_filepath = '/content/{}'.format(model_filename)\n",
        "    best_sensationalism_model = pickle.load(open(pickle_filepath, 'rb'))\n",
        "    prob = best_sensationalism_model.predict_proba(X_news)[:,1]\n",
        "  return float(prob)"
      ],
      "execution_count": null,
      "outputs": []
    },
    {
      "cell_type": "markdown",
      "metadata": {
        "id": "AoC7DQHSvDG6"
      },
      "source": [
        "## 2.e. Define ClickBait Predictor"
      ]
    },
    {
      "cell_type": "code",
      "metadata": {
        "id": "KEEQtnWNd3Ic"
      },
      "source": [
        "def getDistilledClickBaitPrediction(X_news):\n",
        "  prob = 0\n",
        "  if X_news.size == 1:\n",
        "    file_id = '1pgSrMJD0m_7Cd1fg1xoZEN2P_CjnpUkb'\n",
        "    model_filename = 'Best_Clickbait_Analysis_Model_Misleading_Intentions.pkl'\n",
        "    downloaded = gdrive.CreateFile({'id': file_id})\n",
        "    downloaded.GetContentFile(model_filename)\n",
        "    pickle_filepath = '/content/{}'.format(model_filename)\n",
        "    best_distilled_clickbait_model = pickle.load(open(pickle_filepath, 'rb'))\n",
        "    prob = best_distilled_clickbait_model.predict_proba(X_news)[:,1]\n",
        "  return float(prob)"
      ],
      "execution_count": null,
      "outputs": []
    },
    {
      "cell_type": "markdown",
      "metadata": {
        "id": "v7YJG4qERpqA"
      },
      "source": [
        "## 2.f. Define Political Bias\n",
        "\n"
      ]
    },
    {
      "cell_type": "code",
      "metadata": {
        "id": "KZ_fD6l_R2n9"
      },
      "source": [
        "def get_BSF(df): # Balance Sentiment Factor\n",
        "  if len(df) == 1:\n",
        "    df['BSF'] = df['Positive']/df['Negative']\n",
        "  else:\n",
        "    pos_mean = df['Positive'].mean()\n",
        "    neg_mean = df['Negative'].mean()\n",
        "    balance_sentiment = (abs(pos_mean - df['Positive'])+abs(neg_mean - df['Negative']))/2\n",
        "    df['BSF'] = balance_sentiment \n",
        "  return df\n",
        "\n",
        "# Microfactor 2\n",
        "def get_SPR(df): # Standardized Party Ratio\n",
        "  # Create a ratio to measure if text has a leniency towards a particular party\n",
        "  party_ratio = df['Democrat']/df['Republican']\n",
        "  # Standardized the ratio to make use of the overall mean and stand deviation\n",
        "  if len(df) == 1:\n",
        "    df['SPR'] = party_ratio\n",
        "  else:\n",
        "    df['SPR'] = abs(party_ratio - np.mean(party_ratio))/np.std(party_ratio)\n",
        "  return df\n",
        "\n",
        "# Microfactor 3\n",
        "def get_selection_bias(df, text_col=str): \n",
        "  clean_col_name = 'Cleaned_'+text_col\n",
        "  clean_text_token = df[text_col].apply(nltk.word_tokenize)\n",
        "\n",
        "  def count_bias_vocab(target, bias_list):\n",
        "    count = 0 \n",
        "    for vocab in bias_list:\n",
        "      if vocab in target:\n",
        "        count += 1\n",
        "    return count/len(bias_list)\n",
        "  \n",
        "  file_id = '15DBBkgI0TVfciwwhDptWoblvhIHGKmq9'\n",
        "  model_filename = 'vocab_selection.pkl'\n",
        "  downloaded = gdrive.CreateFile({'id': file_id})\n",
        "  downloaded.GetContentFile(model_filename)\n",
        "  pickle_filepath = '/content/{}'.format(model_filename)\n",
        "  vocab_selection = pickle.load(open(pickle_filepath, 'rb'))\n",
        "\n",
        "  lib_vocab_rate = clean_text_token.apply(count_bias_vocab,bias_list=vocab_selection['liberal'])\n",
        "  con_vocab_rate = clean_text_token.apply(count_bias_vocab,bias_list=vocab_selection['conservative'])\n",
        "  dem_vocab_rate = clean_text_token.apply(count_bias_vocab,bias_list=vocab_selection['democrat'])\n",
        "  rep_vocab_rate = clean_text_token.apply(count_bias_vocab,bias_list=vocab_selection['republican'])\n",
        "\n",
        "  # Create two new feature\n",
        "  # Weight more on liberal and conservative vocabs\n",
        "  df['Dem_Vocab_Freq'] = 0.6*lib_vocab_rate+0.4*dem_vocab_rate\n",
        "  df['Rep_Vocab_Freq'] = 0.6*con_vocab_rate+0.4*rep_vocab_rate\n",
        "  # Create a selection bias feature\n",
        "  df['Selection_Bias'] = df[[\"Dem_Vocab_Freq\", \"Rep_Vocab_Freq\"]].max(axis=1)\n",
        "  return df\n",
        "\n",
        "# Combine all microfactors\n",
        "def get_political_bias(df):\n",
        "  # Microfactor final calculation\n",
        "  if len(df) == 1:\n",
        "    BSF_diff = df['BSF']\n",
        "    SPR_diff = df['SPR']\n",
        "  else:\n",
        "    BSF_diff = abs(df['BSF'].mean() - df['BSF'])\n",
        "    BSF_diff = (BSF_diff-min(BSF_diff))/(max(BSF_diff)-min(BSF_diff))\n",
        "    SPR_diff = abs(df['SPR'].mean() - df['SPR'])\n",
        "    SPR_diff = (SPR_diff-min(SPR_diff))/(max(SPR_diff)-min(SPR_diff))\n",
        "  # Combine all the microfactors together\n",
        "  political_bias = (0.2*BSF_diff+0.2*SPR_diff+0.2*(1-df['Neutral'])+0.4*df['Selection_Bias'])\n",
        "  df['Political_Bias'] = political_bias\n",
        "  return df"
      ],
      "execution_count": null,
      "outputs": []
    },
    {
      "cell_type": "markdown",
      "metadata": {
        "id": "h046_6ZUkrtn"
      },
      "source": [
        "To save time on loading zero shot model and create microfactors based on overall dataframe statistics, feature generation process (zero_shot_microfactors) is added in data prep notebook "
      ]
    },
    {
      "cell_type": "code",
      "metadata": {
        "id": "GWHV-rlDSBij"
      },
      "source": [
        "def polit_bias_pipeline(df, clean_text_col=str):\n",
        "  #df = zero_shot_microfactor(df, text_col) \n",
        "  df = get_BSF(df)\n",
        "  df = get_SPR(df)\n",
        "  df = get_selection_bias(df, clean_text_col)\n",
        "  df = get_political_bias(df)\n",
        "  return df, df['Political_Bias']"
      ],
      "execution_count": null,
      "outputs": []
    },
    {
      "cell_type": "markdown",
      "metadata": {
        "id": "fLx1PK9oogYU"
      },
      "source": [
        "## 2.g. Title-Body Similarity Predictor"
      ]
    },
    {
      "cell_type": "code",
      "metadata": {
        "id": "2z5hxsa5oyNj"
      },
      "source": [
        "!pip install nltk==3.4 --quiet\n",
        "\n",
        "from nltk.tokenize import sent_tokenize, word_tokenize\n",
        "from nltk.util import ngrams\n",
        "from scipy.sparse import vstack\n",
        "from scipy.spatial.distance import cosine\n",
        "from sklearn import preprocessing\n",
        "from sklearn.decomposition import TruncatedSVD\n",
        "from sklearn.feature_extraction.text import TfidfVectorizer\n",
        "import warnings\n",
        "warnings.filterwarnings('ignore')\n",
        "\n",
        "def cnt_sentences(df):\n",
        "  df['cnt_title_sentences'] = df['clean_title'].apply(lambda x: len(sent_tokenize(x)))\n",
        "  df['cnt_text_sentences'] = df['clean_body'].apply(lambda x: len(sent_tokenize(x)))\n",
        "\n",
        "def ngram(text, n):\n",
        "    n_grams = ngrams(word_tokenize(text), n)\n",
        "    return [ '_'.join(grams) for grams in n_grams]\n",
        "\n",
        "# Uni, Bi, Tri grams to get common word count features\n",
        "def generate_ngrams(df):\n",
        "  df[\"title_uni\"] = df[\"clean_title\"].map(lambda x: ngram(x, 1))\n",
        "  df[\"body_uni\"] = df[\"clean_body\"].map(lambda x: ngram(x, 1))\n",
        "  df[\"cnt_title_uni\"] = list(df.apply(lambda x: len(x['title_uni']), axis=1))\n",
        "  df[\"cnt_body_uni\"] = list(df.apply(lambda x: len(x['body_uni']), axis=1))\n",
        "  df[\"unq_cnt_title_uni\"] = list(df.apply(lambda x: len(set(x['title_uni'])), axis=1))\n",
        "  df[\"unq_cnt_body_uni\"] = list(df.apply(lambda x: len(set(x['body_uni'])), axis=1))\n",
        "\n",
        "  df[\"title_bi\"] = df[\"clean_title\"].map(lambda x: ngram(x, 2))\n",
        "  df[\"body_bi\"] = df[\"clean_body\"].map(lambda x: ngram(x, 2))\n",
        "  df[\"cnt_title_bi\"] = list(df.apply(lambda x: len(x['title_bi']), axis=1))\n",
        "  df[\"cnt_body_bi\"] = list(df.apply(lambda x: len(x['body_bi']), axis=1))\n",
        "  df[\"unq_cnt_title_bi\"] = list(df.apply(lambda x: len(set(x['title_bi'])), axis=1))\n",
        "  df[\"unq_cnt_body_bi\"] = list(df.apply(lambda x: len(set(x['body_bi'])), axis=1))\n",
        "\n",
        "  df[\"title_tri\"] = df[\"clean_title\"].map(lambda x: ngram(x, 3))\n",
        "  df[\"body_tri\"] = df[\"clean_body\"].map(lambda x: ngram(x, 3))\n",
        "  df[\"cnt_title_tri\"] = list(df.apply(lambda x: len(x['title_tri']), axis=1))\n",
        "  df[\"cnt_body_tri\"] = list(df.apply(lambda x: len(x['body_tri']), axis=1))\n",
        "  df[\"unq_cnt_title_tri\"] = list(df.apply(lambda x: len(set(x['title_tri'])), axis=1))\n",
        "  df[\"unq_cnt_body_tri\"] = list(df.apply(lambda x: len(set(x['body_tri'])), axis=1))\n",
        "\n",
        "def common_ngrams_in_body(df):\n",
        "  df[\"cnt_title_unis_in_body\"] =  list(df.apply(lambda x: sum([1. for w in x['title_uni'] if w in set(x['body_uni'])]), axis=1))\n",
        "  df[\"cnt_title_bis_in_body\"] =  list(df.apply(lambda x: sum([1. for w in x['title_bi'] if w in set(x['body_bi'])]), axis=1))\n",
        "  df[\"cnt_title_tris_in_body\"] =  list(df.apply(lambda x: sum([1. for w in x['title_tri'] if w in set(x['body_tri'])]), axis=1))\n",
        "\n",
        "def concat_title_body(df):\n",
        "  df['clean_title_body'] = df['clean_title'] + ' ' + df['clean_body']\n",
        "\n",
        "def tf_idf(df):\n",
        "  concat_title_body(df)\n",
        "  combined_vectors = TfidfVectorizer(ngram_range=(1, 2), min_df=1, max_df=1, use_idf=True, smooth_idf=True)\n",
        "  combined_vectors.fit(df[\"clean_title_body\"])\n",
        "  combined_vectors_dictionary = combined_vectors.vocabulary_\n",
        "  title_vectors = TfidfVectorizer(ngram_range=(1, 2), min_df=1, max_df=1, use_idf=True, smooth_idf=True, vocabulary=combined_vectors_dictionary)\n",
        "  title_tfidf_vectors = title_vectors.fit_transform(df['clean_title'])\n",
        "  text_vectors = TfidfVectorizer(ngram_range=(1, 2), min_df=1, max_df=1, use_idf=True, smooth_idf=True, vocabulary=combined_vectors_dictionary)\n",
        "  text_tfidf_vectors = text_vectors.fit_transform(df['clean_body'])\n",
        "  return title_tfidf_vectors, text_tfidf_vectors\n",
        "\n",
        "def similarity_score(df, title_vectors, text_vectors):\n",
        "  similarity_score = []\n",
        "  for i in range(len(df)):\n",
        "      similarity_score.append(1 - cosine(title_vectors[i], text_vectors[i]))\n",
        "  return similarity_score\n",
        "\n",
        "def tf_idf_similarity(df):\n",
        "  title_tfidf_vectors, text_tfidf_vectors = tf_idf(df)\n",
        "  df['similarity_title_body'] = similarity_score(df, title_tfidf_vectors.toarray(), text_tfidf_vectors.toarray())\n",
        "  return title_tfidf_vectors, text_tfidf_vectors\n",
        "\n",
        "def svd(data, title_tfidf_vectors, text_tfidf_vectors):\n",
        "  truncated_svd = TruncatedSVD(n_components=2, n_iter=10)\n",
        "  combined_vectors = vstack([title_tfidf_vectors, text_tfidf_vectors])\n",
        "  truncated_svd.fit(combined_vectors)\n",
        "  title_svd = truncated_svd.transform(title_tfidf_vectors)\n",
        "  text_svd = truncated_svd.transform(text_tfidf_vectors)\n",
        "  return title_svd, text_svd\n",
        "\n",
        "def topic_similarity(data, title_tfidf_vectors, text_tfidf_vectors):\n",
        "  title_svd_vectors, text_svd_vectors = svd(data, title_tfidf_vectors, text_tfidf_vectors)\n",
        "  data['topics_similarity_title_body'] = similarity_score(data, title_svd_vectors, text_svd_vectors)\n",
        "\n",
        "def get_distilled_dataset(title, text):\n",
        "  data = {'clean_title': [title.iloc[0]], 'clean_body': [text.iloc[0]]}\n",
        "  df_test = pd.DataFrame(data)\n",
        "  cnt_sentences(df_test)\n",
        "  generate_ngrams(df_test)\n",
        "  common_ngrams_in_body(df_test)\n",
        "  title_tfidf_vectors, text_tfidf_vectors = tf_idf_similarity(df_test)\n",
        "  topic_similarity(df_test, title_tfidf_vectors, text_tfidf_vectors)\n",
        "  X_cols = [x for i,x in enumerate(features) if x!='label']\n",
        "  return df_test[X_cols]\n",
        "\n",
        "features =     ['label',  'cnt_title_uni', 'cnt_body_uni',\n",
        "                'unq_cnt_title_uni', 'unq_cnt_body_uni', 'cnt_title_bi', 'cnt_body_bi',\n",
        "                'unq_cnt_title_bi', 'unq_cnt_body_bi', 'cnt_title_tri', 'cnt_body_tri',\n",
        "                'unq_cnt_title_tri', 'unq_cnt_body_tri', 'cnt_title_unis_in_body', \n",
        "                'cnt_title_bis_in_body', 'cnt_title_tris_in_body', 'similarity_title_body',\n",
        "                'topics_similarity_title_body',\n",
        "                ]\n",
        "\n",
        "le = preprocessing.LabelEncoder()\n",
        "le.fit(['agree', 'disagree', 'discuss', 'unrelated'])\n",
        "dict(zip(le.classes_, le.transform(le.classes_)))"
      ],
      "execution_count": null,
      "outputs": []
    },
    {
      "cell_type": "code",
      "metadata": {
        "id": "WXwY8Kgm1V0Q"
      },
      "source": [
        "def getTitleVsBodyPrediction(title, body):\n",
        "  file_id = '1bwvFThCwg6pgM99R6p7Ly7K5vXPwRj6q'\n",
        "  model_filename = 'title_body_similarity_model.pkl'\n",
        "  downloaded = gdrive.CreateFile({'id': file_id})\n",
        "  downloaded.GetContentFile(model_filename)\n",
        "  pickle_filepath = '/content/{}'.format(model_filename)\n",
        "  title_body_similarity_model = pickle.load(open(pickle_filepath, 'rb'))\n",
        "  df_test = get_distilled_dataset(title, body)\n",
        "  return title_body_similarity_model.predict(df_test), title_body_similarity_model.predict_proba(df_test)"
      ],
      "execution_count": null,
      "outputs": []
    },
    {
      "cell_type": "markdown",
      "metadata": {
        "id": "SpAG3S6dvHc5"
      },
      "source": [
        "## 2.h. Define a false-o-meter"
      ]
    },
    {
      "cell_type": "code",
      "metadata": {
        "id": "9Ufpr5uDd5sE"
      },
      "source": [
        "# get false-o-meter reading of news item\n",
        "def get_false_o_meter_reading(df, index_num, x_news=str, x_body=str):\n",
        "    X_news = df[x_news]\n",
        "    X_body = df[x_body]\n",
        "    model_accuracy = [0.85, 0.73, 0.89, 0.92, 0.86, 0.97, 0.6, 0.7] \n",
        "    model_weight = [acc/sum(model_accuracy) for acc in model_accuracy]\n",
        "    probablity_false_news = []\n",
        "\n",
        "    # get sentiment reading\n",
        "    sentiment_prob = getSentimentPrediction(X_news)\n",
        "    probablity_false_news.append(model_weight[0] * sentiment_prob)\n",
        "    print('Sentiment [false-o-meter] reading is %f ' %(sentiment_prob))\n",
        "\n",
        "    # get sensationalism reading\n",
        "    sensationalism_prob = getSensationalismPrediction(X_news)\n",
        "    probablity_false_news.append(model_weight[1] * sensationalism_prob)\n",
        "    print('Sensationalism [false-o-meter] reading is %f ' %(sensationalism_prob))\n",
        "\n",
        "    # get distilled clickbait reading\n",
        "    clickbait_prob = getDistilledClickBaitPrediction(X_news)\n",
        "    probablity_false_news.append(model_weight[2] * clickbait_prob)\n",
        "    print('Distilled Clickbait [false-o-meter] reading is %f ' %(clickbait_prob))\n",
        "\n",
        "    # get stance reading\n",
        "    (agree_stance_prob, disagree_stance_prob, neutral_stance_prob) = getStancePrediction(X_news, X_body)\n",
        "    probablity_false_news.append(model_weight[3] * agree_stance_prob) # agree stance\n",
        "    probablity_false_news.append(model_weight[4] * disagree_stance_prob) # disagree stance\n",
        "    probablity_false_news.append(model_weight[5] * neutral_stance_prob) # neutral stance\n",
        "    print('Stance [false-o-meter] reading is (agree: %f, disagree: %f, neutral: %f)' % (agree_stance_prob, disagree_stance_prob, neutral_stance_prob))\n",
        "\n",
        "    # get political bias\n",
        "    r = requests.get('https://docs.google.com/spreadsheets/d/e/2PACX-1vQd6WhaekUPRDxUIYXgx_zI_zAHodXl3__bfAnEa_GWT_eR9dVO55HALi_3jjnZmEwbZ_4YvUkG7Qtx/pub?gid=896471122&single=true&output=tsv')\n",
        "    data = r.content\n",
        "    zero_shot_microfactors = pd.read_csv(BytesIO(data), sep='\\t')\n",
        "    pb_df, political_bias_prob = polit_bias_pipeline(zero_shot_microfactors, x_news)\n",
        "    probablity_false_news.append(model_weight[6] * political_bias_prob.loc[index_num])\n",
        "    print('Political Bias [false-o-meter] reading is %f ' %(political_bias_prob.loc[index_num]))\n",
        "\n",
        "    # get title body similarity\n",
        "    title_body_pred, title_body_pred_prob = getTitleVsBodyPrediction(X_news, X_body)\n",
        "    t_b_fake_score = (title_body_pred_prob[0][1] * 0.6 + title_body_pred_prob[0][3] + 0.4)\n",
        "    probablity_false_news.append(model_weight[6] * t_b_fake_score)\n",
        "    print('Title-Body incongruence [false-o-meter] reading is %f ' %(t_b_fake_score))\n",
        "\n",
        "    # get distilled psychology utility reading\n",
        "    psychology_prob = getPsychologyUtilitiesPrediction(X_news)\n",
        "    probablity_false_news.append(model_weight[2] * psychology_prob)\n",
        "    print('Distilled Psychology Utility [false-o-meter] reading is %f ' %(psychology_prob))\n",
        "\n",
        "    # get distilled intent reading\n",
        "    intent_prob = getIntentPrediction(X_news)\n",
        "    probablity_false_news.append(model_weight[0] * intent_prob)\n",
        "    print('Distilled Intent [false-o-meter] reading is %f ' %(intent_prob))\n",
        "\n",
        "    cummalative_probablity_false_news = sum(probablity_false_news)\n",
        "    print('Ensembled [false-o-meter] reading is %f ' %(cummalative_probablity_false_news))\n",
        "\n",
        "    return cummalative_probablity_false_news"
      ],
      "execution_count": null,
      "outputs": []
    },
    {
      "cell_type": "markdown",
      "metadata": {
        "id": "jbMdc5tLoT7p"
      },
      "source": [
        "##2.i. Define Psychology Predictor"
      ]
    },
    {
      "cell_type": "code",
      "metadata": {
        "id": "_A4Zueetoc7p"
      },
      "source": [
        "import string\n",
        "import joblib\n",
        "\n",
        "def get_text_processing(text):\n",
        "  stop_words = stopwords.words('english')\n",
        "  stop_words.append(['breaking', 'BREAKING'])\n",
        "  no_punctuation = [char for char in text if char not in string.punctuation]\n",
        "  no_punctuation = ''.join(no_punctuation)\n",
        "  return ' '.join([word for word in no_punctuation.split() if word.lower() not in stop_words])\n",
        "\n",
        "def getPsychologyUtilitiesPrediction(X_news):\n",
        "  prob = 0\n",
        "  X_news = X_news.apply(get_text_processing)\n",
        "  if X_news.size == 1:\n",
        "    file_id = '16egOQ8zTftur5jPFxfWTwYDTOOjdhQ6e'\n",
        "    model_filename = 'PsychologyUtilites_pipeline.pkl'\n",
        "    downloaded = gdrive.CreateFile({'id': file_id})\n",
        "    downloaded.GetContentFile(model_filename)\n",
        "    pickle_filepath = '/content/{}'.format(model_filename)\n",
        "    best_distilled_psychology_model = joblib.load(open(pickle_filepath, 'rb'))\n",
        "    prob = best_distilled_psychology_model.predict(X_news)\n",
        "  return 1 if prob == 'Positive' else 0"
      ],
      "execution_count": null,
      "outputs": []
    },
    {
      "cell_type": "markdown",
      "metadata": {
        "id": "nUfbWvK2OBZ5"
      },
      "source": [
        "##2.j. Define Intent Predictor"
      ]
    },
    {
      "cell_type": "code",
      "metadata": {
        "id": "w7Iwlj7wOBZ7"
      },
      "source": [
        "def getIntentPrediction(X_news):\n",
        "  prob = 0\n",
        "  X_news = X_news.apply(get_text_processing)\n",
        "  if X_news.size == 1:\n",
        "    file_id = '1BFXgdw2MvJZl39CUx0jvfms1nzQI810j'\n",
        "    model_filename = 'Intent_pipeline.pkl'\n",
        "    downloaded = gdrive.CreateFile({'id': file_id})\n",
        "    downloaded.GetContentFile(model_filename)\n",
        "    pickle_filepath = '/content/{}'.format(model_filename)\n",
        "    best_distilled_intent_model = joblib.load(open(pickle_filepath, 'rb'))\n",
        "    prob = best_distilled_intent_model.predict(X_news)\n",
        "  return 1 if prob == 'Positive' else 0"
      ],
      "execution_count": null,
      "outputs": []
    },
    {
      "cell_type": "markdown",
      "metadata": {
        "id": "2EHyXA9Zd-CM"
      },
      "source": [
        "# 3.0. Automated Inference Pipeline"
      ]
    },
    {
      "cell_type": "markdown",
      "metadata": {
        "id": "PnQh4rgCvSK4"
      },
      "source": [
        "## 3.1. Helper: Pick a random news item"
      ]
    },
    {
      "cell_type": "code",
      "metadata": {
        "id": "sspSi0vxeQ04"
      },
      "source": [
        "def get_random_news_items(num_items):\n",
        "  random_news_items = df_test_headlines.sample(n=num_items)\n",
        "  return random_news_items"
      ],
      "execution_count": null,
      "outputs": []
    },
    {
      "cell_type": "markdown",
      "metadata": {
        "id": "ZJ8H3Y9ceDhM"
      },
      "source": [
        "## 3.2. Helper:Print prediction of news item"
      ]
    },
    {
      "cell_type": "code",
      "metadata": {
        "id": "vXPuqpUyfGoN"
      },
      "source": [
        "def print_prediction(reading):\n",
        "  if reading > 0.9:\n",
        "    print (\"This news headline is: Pants on Fire\")\n",
        "  elif reading > 0.7 and reading < 0.9:\n",
        "    print (\"This news headline is: Somewhat False\")\n",
        "  elif reading > 0.5 and reading < 0.7:\n",
        "    print (\"This news headline is: Mostly False\")\n",
        "  elif reading > 0.3 and reading < 0.5:\n",
        "    print (\"This news headline is: Half True\")\n",
        "  elif reading > 0.1 and reading < 0.3:\n",
        "    print (\"This news headline is: Mostly True\")\n",
        "  elif reading < 0.1:\n",
        "    print (\"True\")  "
      ],
      "execution_count": null,
      "outputs": []
    },
    {
      "cell_type": "markdown",
      "metadata": {
        "id": "uqk1SUgEg_5k"
      },
      "source": [
        "## 3.3. Helper: Run automated pipeline"
      ]
    },
    {
      "cell_type": "code",
      "metadata": {
        "id": "k1-VQtbUo69_"
      },
      "source": [
        "def run_automated_inference_pipeline(num_items):\n",
        "  X_headline = 'preprocessed_statement_text'\n",
        "  X_body = 'preprocessed_body'\n",
        "  random_news_items = get_random_news_items(num_items)\n",
        "\n",
        "  i = 0\n",
        "  while ( i < num_items):\n",
        "    news = random_news_items.sample(1)\n",
        "    print('\\nRunning [false-o-meter] on - %s ' % (news['text']))\n",
        "    reading = get_false_o_meter_reading(news, news.index[0], X_headline, X_body)\n",
        "    print('[false-o-meter] reading is %f ' %(reading))\n",
        "    print_prediction(reading)\n",
        "    i = i + 1"
      ],
      "execution_count": null,
      "outputs": []
    },
    {
      "cell_type": "markdown",
      "metadata": {
        "id": "NRSFK3w0hUX7"
      },
      "source": [
        "## 3.4. Invoke automated pipeline on 20 random news items"
      ]
    },
    {
      "cell_type": "code",
      "metadata": {
        "id": "elezXf39cBuv"
      },
      "source": [
        "num_news = 20\n",
        "reading = run_automated_inference_pipeline(num_news)"
      ],
      "execution_count": null,
      "outputs": []
    }
  ]
}